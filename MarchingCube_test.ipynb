{
 "cells": [
  {
   "cell_type": "code",
   "execution_count": 1,
   "metadata": {},
   "outputs": [],
   "source": [
    "import numpy as np\n",
    "import matplotlib.pyplot as plt\n",
    "from mpl_toolkits.mplot3d import Axes3D\n",
    "from scipy.spatial import ConvexHull"
   ]
  },
  {
   "cell_type": "code",
   "execution_count": 2,
   "metadata": {},
   "outputs": [],
   "source": [
    "connec = np.array([\n",
    "    [1,1,0,1,1,0,0,0],\n",
    "    [1,1,1,0,0,1,0,0],\n",
    "    [0,1,1,1,0,0,1,0],\n",
    "    [1,0,1,1,0,0,0,1],\n",
    "    [1,0,0,0,1,1,0,1],\n",
    "    [0,1,0,0,1,1,1,0],\n",
    "    [0,0,1,0,0,1,1,1],\n",
    "    [0,0,0,1,1,0,1,1],\n",
    "],dtype=bool)\n",
    "\n",
    "coords = np.array([\n",
    "  [-.5,  .5,  .5],\n",
    "  [-.5,  .5, -.5],\n",
    "  [ .5,  .5, -.5],\n",
    "  [ .5,  .5,  .5],\n",
    "  [-.5, -.5,  .5],\n",
    "  [-.5, -.5, -.5],\n",
    "  [ .5, -.5, -.5],\n",
    "  [ .5, -.5,  .5],\n",
    "  ], dtype=float)\n",
    "\n",
    "\n"
   ]
  },
  {
   "cell_type": "code",
   "execution_count": 3,
   "metadata": {},
   "outputs": [
    {
     "name": "stdout",
     "output_type": "stream",
     "text": [
      "{2: array([0, 0, 1, 0, 0, 0, 0, 0]), 4: array([0, 0, 0, 0, 1, 0, 0, 1])}\n"
     ]
    }
   ],
   "source": [
    "bits= np.array([0,0,1,0,1,0,0,1],dtype=bool).reshape((1,8))\n",
    "\n",
    "answer = bits * (bits * connec).T\n",
    "# answer = np.col((bits * connec).T, [2,4,7]).nodup()\n",
    "\n",
    "answer = np.array(answer,dtype=int)\n",
    "# print(answer)\n",
    "\n",
    "groups = dict([(elem.argmax() ,elem) for elem in answer if elem.any() ])\n",
    "print(groups)\n"
   ]
  },
  {
   "cell_type": "code",
   "execution_count": 23,
   "metadata": {},
   "outputs": [
    {
     "ename": "SyntaxError",
     "evalue": "invalid syntax (<ipython-input-23-a7d07e8ad4f3>, line 5)",
     "output_type": "error",
     "traceback": [
      "\u001b[1;36m  File \u001b[1;32m\"<ipython-input-23-a7d07e8ad4f3>\"\u001b[1;36m, line \u001b[1;32m5\u001b[0m\n\u001b[1;33m    mid_pos = np.concatenate(np.mean(mid_pos,axis=1), coords[groups[group].nonzero())\u001b[0m\n\u001b[1;37m                                                                                    ^\u001b[0m\n\u001b[1;31mSyntaxError\u001b[0m\u001b[1;31m:\u001b[0m invalid syntax\n"
     ]
    }
   ],
   "source": [
    "for group in groups:\n",
    "    bit_connec = (1 - bits) * (groups[group] * connec).T\n",
    "    mid_indices = bit_connec.nonzero()\n",
    "    mid_pos = np.array(list(zip(coords[mid_indices[0]], coords[mid_indices[1]])))\n",
    "    mid_pos = np.concatenate(np.mean(mid_pos,axis=1), coords[groups[group].nonzero()))\n",
    "    print(mid_pos)"
   ]
  },
  {
   "cell_type": "code",
   "execution_count": 8,
   "metadata": {},
   "outputs": [
    {
     "ename": "QhullError",
     "evalue": "QH6154 Qhull precision error: Initial simplex is flat (facet 1 is coplanar with the interior point)\n\nWhile executing:  | qhull i Qt\nOptions selected for Qhull 2019.1.r 2019/06/21:\n  run-id 620386066  incidence  Qtriangulate  _pre-merge  _zero-centrum\n  _max-width  1  Error-roundoff 1.4e-15  _one-merge 9.7e-15\n  _near-inside 4.9e-14  Visible-distance 2.8e-15  U-max-coplanar 2.8e-15\n  Width-outside 5.5e-15  _wide-facet 1.7e-14  _maxoutside 1.1e-14\n\nThe input to qhull appears to be less than 3 dimensional, or a\ncomputation has overflowed.\n\nQhull could not construct a clearly convex simplex from points:\n- p3(v4):     0    -1   0.5\n- p1(v3):    -1    -1   0.5\n- p2(v2):     0  -0.5     1\n- p0(v1):    -1  -0.5     1\n\nThe center point is coplanar with a facet, or a vertex is coplanar\nwith a neighboring facet.  The maximum round off error for\ncomputing distances is 1.4e-15.  The center point, facets and distances\nto the center point are as follows:\n\ncenter point     -0.5    -0.75     0.75\n\nfacet p1 p2 p0 distance=    0\nfacet p3 p2 p0 distance=    0\nfacet p3 p1 p0 distance=    0\nfacet p3 p1 p2 distance=    0\n\nThese points either have a maximum or minimum x-coordinate, or\nthey maximize the determinant for k coordinates.  Trial points\nare first selected from points that maximize a coordinate.\n\nThe min and max coordinates for each dimension are:\n  0:        -1         0  difference=    1\n  1:        -1  -2.225e-308  difference=    1\n  2:       0.5         1  difference=  0.5\n\nIf the input should be full dimensional, you have several options that\nmay determine an initial simplex:\n  - use 'QJ'  to joggle the input and make it full dimensional\n  - use 'QbB' to scale the points to the unit cube\n  - use 'QR0' to randomly rotate the input for different maximum points\n  - use 'Qs'  to search all points for the initial simplex\n  - use 'En'  to specify a maximum roundoff error less than 1.4e-15.\n  - trace execution with 'T3' to see the determinant for each point.\n\nIf the input is lower dimensional:\n  - use 'QJ' to joggle the input and make it full dimensional\n  - use 'Qbk:0Bk:0' to delete coordinate k from the input.  You should\n    pick the coordinate with the least range.  The hull will have the\n    correct topology.\n  - determine the flat containing the points, rotate the points\n    into a coordinate plane, and delete the other coordinates.\n  - add one or more points to make the input full dimensional.\n",
     "output_type": "error",
     "traceback": [
      "\u001b[1;31m---------------------------------------------------------------------------\u001b[0m",
      "\u001b[1;31mQhullError\u001b[0m                                Traceback (most recent call last)",
      "\u001b[1;32m<ipython-input-8-152f68c21557>\u001b[0m in \u001b[0;36m<module>\u001b[1;34m\u001b[0m\n\u001b[0;32m      1\u001b[0m \u001b[1;32mif\u001b[0m \u001b[0mlen\u001b[0m\u001b[1;33m(\u001b[0m\u001b[0mmid_pos\u001b[0m\u001b[1;33m)\u001b[0m \u001b[1;33m>\u001b[0m \u001b[1;36m3\u001b[0m\u001b[1;33m:\u001b[0m\u001b[1;33m\u001b[0m\u001b[1;33m\u001b[0m\u001b[0m\n\u001b[1;32m----> 2\u001b[1;33m     \u001b[0mhull\u001b[0m \u001b[1;33m=\u001b[0m \u001b[0mConvexHull\u001b[0m\u001b[1;33m(\u001b[0m\u001b[0mmid_pos\u001b[0m\u001b[1;33m)\u001b[0m\u001b[1;33m\u001b[0m\u001b[1;33m\u001b[0m\u001b[0m\n\u001b[0m\u001b[0;32m      3\u001b[0m \u001b[1;33m\u001b[0m\u001b[0m\n\u001b[0;32m      4\u001b[0m     \u001b[0mfig\u001b[0m \u001b[1;33m=\u001b[0m \u001b[0mplt\u001b[0m\u001b[1;33m.\u001b[0m\u001b[0mfigure\u001b[0m\u001b[1;33m(\u001b[0m\u001b[1;33m)\u001b[0m\u001b[1;33m\u001b[0m\u001b[1;33m\u001b[0m\u001b[0m\n\u001b[0;32m      5\u001b[0m     \u001b[0max\u001b[0m \u001b[1;33m=\u001b[0m \u001b[0mfig\u001b[0m\u001b[1;33m.\u001b[0m\u001b[0madd_subplot\u001b[0m\u001b[1;33m(\u001b[0m\u001b[1;36m111\u001b[0m\u001b[1;33m,\u001b[0m \u001b[0mprojection\u001b[0m\u001b[1;33m=\u001b[0m\u001b[1;34m\"3d\"\u001b[0m\u001b[1;33m)\u001b[0m\u001b[1;33m\u001b[0m\u001b[1;33m\u001b[0m\u001b[0m\n",
      "\u001b[1;32mqhull.pyx\u001b[0m in \u001b[0;36mscipy.spatial.qhull.ConvexHull.__init__\u001b[1;34m()\u001b[0m\n",
      "\u001b[1;32mqhull.pyx\u001b[0m in \u001b[0;36mscipy.spatial.qhull._Qhull.__init__\u001b[1;34m()\u001b[0m\n",
      "\u001b[1;31mQhullError\u001b[0m: QH6154 Qhull precision error: Initial simplex is flat (facet 1 is coplanar with the interior point)\n\nWhile executing:  | qhull i Qt\nOptions selected for Qhull 2019.1.r 2019/06/21:\n  run-id 620386066  incidence  Qtriangulate  _pre-merge  _zero-centrum\n  _max-width  1  Error-roundoff 1.4e-15  _one-merge 9.7e-15\n  _near-inside 4.9e-14  Visible-distance 2.8e-15  U-max-coplanar 2.8e-15\n  Width-outside 5.5e-15  _wide-facet 1.7e-14  _maxoutside 1.1e-14\n\nThe input to qhull appears to be less than 3 dimensional, or a\ncomputation has overflowed.\n\nQhull could not construct a clearly convex simplex from points:\n- p3(v4):     0    -1   0.5\n- p1(v3):    -1    -1   0.5\n- p2(v2):     0  -0.5     1\n- p0(v1):    -1  -0.5     1\n\nThe center point is coplanar with a facet, or a vertex is coplanar\nwith a neighboring facet.  The maximum round off error for\ncomputing distances is 1.4e-15.  The center point, facets and distances\nto the center point are as follows:\n\ncenter point     -0.5    -0.75     0.75\n\nfacet p1 p2 p0 distance=    0\nfacet p3 p2 p0 distance=    0\nfacet p3 p1 p0 distance=    0\nfacet p3 p1 p2 distance=    0\n\nThese points either have a maximum or minimum x-coordinate, or\nthey maximize the determinant for k coordinates.  Trial points\nare first selected from points that maximize a coordinate.\n\nThe min and max coordinates for each dimension are:\n  0:        -1         0  difference=    1\n  1:        -1  -2.225e-308  difference=    1\n  2:       0.5         1  difference=  0.5\n\nIf the input should be full dimensional, you have several options that\nmay determine an initial simplex:\n  - use 'QJ'  to joggle the input and make it full dimensional\n  - use 'QbB' to scale the points to the unit cube\n  - use 'QR0' to randomly rotate the input for different maximum points\n  - use 'Qs'  to search all points for the initial simplex\n  - use 'En'  to specify a maximum roundoff error less than 1.4e-15.\n  - trace execution with 'T3' to see the determinant for each point.\n\nIf the input is lower dimensional:\n  - use 'QJ' to joggle the input and make it full dimensional\n  - use 'Qbk:0Bk:0' to delete coordinate k from the input.  You should\n    pick the coordinate with the least range.  The hull will have the\n    correct topology.\n  - determine the flat containing the points, rotate the points\n    into a coordinate plane, and delete the other coordinates.\n  - add one or more points to make the input full dimensional.\n"
     ]
    }
   ],
   "source": [
    "    if len(mid_pos) > 3:\n",
    "        hull = ConvexHull(mid_pos)\n",
    "\n",
    "        fig = plt.figure()\n",
    "        ax = fig.add_subplot(111, projection=\"3d\")\n",
    "        ax.plot(mid_pos.T[0], mid_pos.T[1], mid_pos.T[2], \"ko\")\n",
    "\n",
    "        for s in hull.simplices:\n",
    "            s = np.append(s, s[0])  # Here we cycle back to the first coordinate\n",
    "            ax.plot(mid_pos[s, 0], mid_pos[s, 1], mid_pos[s, 2], \"r-\")\n",
    "\n",
    "        for i in [\"x\", \"y\", \"z\"]:\n",
    "            eval(\"ax.set_{:s}label('{:s}')\".format(i, i))\n",
    "\n",
    "        plt.show()"
   ]
  },
  {
   "cell_type": "code",
   "execution_count": null,
   "metadata": {},
   "outputs": [],
   "source": []
  },
  {
   "cell_type": "code",
   "execution_count": null,
   "metadata": {},
   "outputs": [],
   "source": []
  }
 ],
 "metadata": {
  "kernelspec": {
   "display_name": "Python 3",
   "language": "python",
   "name": "python3"
  },
  "language_info": {
   "codemirror_mode": {
    "name": "ipython",
    "version": 3
   },
   "file_extension": ".py",
   "mimetype": "text/x-python",
   "name": "python",
   "nbconvert_exporter": "python",
   "pygments_lexer": "ipython3",
   "version": "3.7.5"
  }
 },
 "nbformat": 4,
 "nbformat_minor": 4
}
